{
 "cells": [
  {
   "cell_type": "code",
   "execution_count": 4,
   "metadata": {},
   "outputs": [],
   "source": [
    "from logging.handlers import RotatingFileHandler\n",
    "import yahoo_fin.stock_info as si\n",
    "import pandas as pd\n",
    "import time"
   ]
  },
  {
   "cell_type": "code",
   "execution_count": 5,
   "metadata": {},
   "outputs": [],
   "source": [
    "balance_sheet = []\n",
    "income_statement = []\n",
    "cfs = []\n",
    "years = []\n",
    "profitalyze_score = 0\n",
    "tickers = si.tickers_sp500()\n",
    "ROA = 0\n",
    "CF = 0\n",
    "change_ROA = 0\n",
    "acc = 0\n",
    "\n",
    "data_summary = pd.DataFrame(columns=['Ticker','Profitalyze', 'ROA', 'Change in ROA', 'Operating Cash Flow', 'Accruals'])"
   ]
  },
  {
   "cell_type": "code",
   "execution_count": 6,
   "metadata": {},
   "outputs": [],
   "source": [
    "def get_data(stock):\n",
    "    global balance_sheet\n",
    "    global income_statement\n",
    "    global cfs\n",
    "    global years\n",
    "    balance_sheet = si.get_balance_sheet(stock)\n",
    "    income_statement = si.get_income_statement(stock)\n",
    "    cfs = si.get_cash_flow(stock)\n",
    "    years = balance_sheet.columns"
   ]
  },
  {
   "cell_type": "code",
   "execution_count": 7,
   "metadata": {},
   "outputs": [],
   "source": [
    "def profitalyze():\n",
    "    global profitalyze_score\n",
    "    global ROA\n",
    "    global CF\n",
    "    global change_ROA\n",
    "    global acc\n",
    "    net_income = income_statement[years[0]]['netIncome']\n",
    "    ROA = net_income\n",
    "    net_income_prior = income_statement[years[1]]['netIncome']\n",
    "    # First two scores, based on net income in the income statement (Return on Assets), roughly align with \n",
    "    # a 1 to 1.5 range within the same 1-point bracket for Return on Assets.\n",
    "    net_inc_score = 1 if net_income > 0 else 0\n",
    "    net_inc_score_comp = 1 if net_income > net_income_prior else 0\n",
    "\n",
    "    # Second score calculated using Cash Flow Statement's total cash from operating activities\n",
    "    operating_cf = cfs[years[0]]['totalCashFromOperatingActivities']\n",
    "    CF = operating_cf\n",
    "    operating_cf_score = 1 if operating_cf > 0 else 0\n",
    "\n",
    "    # Third score is determined using net change in ROA assets\n",
    "    average_assets = (balance_sheet[years[0]]['totalAssets'] + balance_sheet[years[1]]['totalAssets']) / 2\n",
    "    prev_asset_average = (balance_sheet[years[1]]['totalAssets'] + balance_sheet[years[2]]['totalAssets']) / 2\n",
    "    roa = net_income / average_assets\n",
    "    prev_roa = net_income_prior / prev_asset_average\n",
    "    change_ROA = roa - prev_roa\n",
    "    print(change_ROA)\n",
    "    if (roa > prev_roa ):\n",
    "        roa_score = 1\n",
    "    else:\n",
    "        roa_score = 0\n",
    "\n",
    "    # fourth score\n",
    "    # Accruals yield 1 point if operating_cf divided by total assets is higher than \n",
    "    # ROA in current year, else 0\n",
    "    total_assets = balance_sheet[years[0]]['totalAssets']\n",
    "    accruals = operating_cf / total_assets\n",
    "    acc = accruals\n",
    "    acc_score = 1 if accruals > 0 else 0\n",
    "\n",
    "\n",
    "    profitalyze_score = net_inc_score + operating_cf_score + return_on_assets_score + acc_score\n",
    "    print(profitalyze_score, \"/ 4\")"
   ]
  },
  {
   "cell_type": "code",
   "execution_count": null,
   "metadata": {},
   "outputs": [],
   "source": [
    "for ticker in tickers[32:76]:\n",
    "    get_data(ticker)\n",
    "    profitalyze()\n",
    "    new_row = {'Ticker': ticker,\n",
    "                'Profitalyze': profitalyze_score,\n",
    "                'ROA': ROA,\n",
    "                'Change in ROA': change_ROA,\n",
    "                'Operating Cash Flow': CF,\n",
    "                'Accruals': acc}\n",
    "\n",
    "    data_summary = data_summary.append(new_row, ignore_index=True)\n",
    "    print(ticker + ' added.')\n",
    "    time.sleep(3)\n",
    "data_summary.to_csv('Profitalyze_Analysis.csv')\n"
   ]
  }
 ],
 "metadata": {
  "interpreter": {
   "hash": "3ab5eb6fee431c5aa0450d9f5bdc4e70b1fb5a56ab4855e39eafa169a5ce640e"
  },
  "kernelspec": {
   "display_name": "Python 3.9.12 ('base')",
   "language": "python",
   "name": "python3"
  },
  "language_info": {
   "codemirror_mode": {
    "name": "ipython",
    "version": 3
   },
   "file_extension": ".py",
   "mimetype": "text/x-python",
   "name": "python",
   "nbconvert_exporter": "python",
   "pygments_lexer": "ipython3",
   "version": "3.9.12"
  },
  "orig_nbformat": 4
 },
 "nbformat": 4,
 "nbformat_minor": 2
}
